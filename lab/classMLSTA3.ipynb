{
  "nbformat": 4,
  "nbformat_minor": 0,
  "metadata": {
    "colab": {
      "provenance": [],
      "authorship_tag": "ABX9TyP6fCnznNsdv6iTEN5gaags",
      "include_colab_link": true
    },
    "kernelspec": {
      "name": "python3",
      "display_name": "Python 3"
    },
    "language_info": {
      "name": "python"
    }
  },
  "cells": [
    {
      "cell_type": "markdown",
      "metadata": {
        "id": "view-in-github",
        "colab_type": "text"
      },
      "source": [
        "<a href=\"https://colab.research.google.com/github/dayaYanez/Constant-pH-PCA-NMA-Non-NMA-on-different-Mutations/blob/main/lab/classMLSTA3.ipynb\" target=\"_parent\"><img src=\"https://colab.research.google.com/assets/colab-badge.svg\" alt=\"Open In Colab\"/></a>"
      ]
    },
    {
      "cell_type": "code",
      "execution_count": 2,
      "metadata": {
        "id": "LZrnngiOkm_0"
      },
      "outputs": [],
      "source": [
        "import numpy as np\n",
        "from matplotlib import pylab as plt"
      ]
    },
    {
      "cell_type": "code",
      "source": [
        "#set the seed\n",
        "np.random.seed(302)\n"
      ],
      "metadata": {
        "id": "JQoJVA4PkopQ"
      },
      "execution_count": 27,
      "outputs": []
    },
    {
      "cell_type": "code",
      "source": [
        "mydist = np.random.randn(100)\n",
        "mydist[0]"
      ],
      "metadata": {
        "colab": {
          "base_uri": "https://localhost:8080/"
        },
        "id": "TLqhAwaMl0CS",
        "outputId": "5197cbf5-52c6-4815-f1ef-6542978fa6ad"
      },
      "execution_count": 28,
      "outputs": [
        {
          "output_type": "execute_result",
          "data": {
            "text/plain": [
              "1.0906928020142175"
            ]
          },
          "metadata": {},
          "execution_count": 28
        }
      ]
    },
    {
      "cell_type": "code",
      "source": [
        "mydist = np.random.randn(100)\n",
        "mydist[0]"
      ],
      "metadata": {
        "colab": {
          "base_uri": "https://localhost:8080/"
        },
        "id": "GTcNZoY9l2aT",
        "outputId": "25afb528-2e92-4f38-b6d8-279ab21522db"
      },
      "execution_count": 29,
      "outputs": [
        {
          "output_type": "execute_result",
          "data": {
            "text/plain": [
              "-0.23871662586452122"
            ]
          },
          "metadata": {},
          "execution_count": 29
        }
      ]
    },
    {
      "cell_type": "code",
      "source": [
        "mydist"
      ],
      "metadata": {
        "colab": {
          "base_uri": "https://localhost:8080/"
        },
        "id": "WjilGEKBlQjH",
        "outputId": "6703d5c0-b347-469c-c1fa-d0563eda62f2"
      },
      "execution_count": 16,
      "outputs": [
        {
          "output_type": "execute_result",
          "data": {
            "text/plain": [
              "array([ 1.09069280e+00,  4.57297153e-01,  1.24230677e+00, -8.20924844e-01,\n",
              "        2.43319471e+00, -1.75382542e+00, -1.08316317e+00,  1.34268489e-01,\n",
              "       -4.67629428e-01, -6.66392872e-01, -5.34992179e-01, -7.18401431e-02,\n",
              "        6.44212878e-01,  5.16145409e-01,  1.24934275e-01, -1.86712721e+00,\n",
              "       -7.39111750e-01, -3.85037295e-01, -2.67005842e+00, -1.02822493e-01,\n",
              "        4.75890050e-01, -1.87894251e+00,  8.38849294e-01, -1.25813961e+00,\n",
              "       -6.21456914e-01, -1.04988650e+00,  7.56088479e-01, -7.95366936e-01,\n",
              "       -2.47660605e-01,  4.36827544e-01,  7.17845686e-01, -3.36756040e-01,\n",
              "       -6.35608675e-01, -2.56635474e+00, -3.73742140e-01,  1.53752015e-01,\n",
              "       -9.29580572e-01, -5.18224198e-01, -4.37838551e-01,  4.47425222e-01,\n",
              "        2.28317865e-01,  1.45278744e+00, -4.09408396e-02, -2.65799131e-03,\n",
              "       -7.24002977e-01,  8.51993697e-01, -1.91949674e+00,  1.85512732e+00,\n",
              "       -2.78939995e-02, -1.82292642e-01, -9.55557892e-01,  1.17548284e+00,\n",
              "       -5.93201274e-01, -7.32779804e-01, -1.98506512e+00, -8.33442937e-01,\n",
              "       -7.08696870e-01, -1.85170035e+00,  5.73120133e-01,  1.90310051e-01,\n",
              "       -3.80102981e-01,  8.94936231e-02,  2.62526184e+00,  6.66680038e-01,\n",
              "       -6.48782743e-01,  1.06405506e-01,  1.09958553e+00,  4.29102529e-01,\n",
              "        1.90161246e-01, -6.22309346e-01, -6.04972107e-01,  3.77827344e-01,\n",
              "        7.51599941e-01,  1.38290815e-01,  1.08225807e-02,  1.11651752e+00,\n",
              "        1.86725443e+00,  1.91566330e-01, -1.62584163e+00,  1.02311659e+00,\n",
              "       -2.34094043e+00,  5.23335010e-01,  1.05444370e+00, -6.88386411e-01,\n",
              "        4.11675593e-01,  6.29824322e-01,  1.34555514e+00,  1.25448158e+00,\n",
              "        8.04200008e-01, -1.26253483e+00, -1.88179899e-01,  3.98108872e-01,\n",
              "       -2.61504849e+00,  2.09169823e-01,  8.62083322e-01, -1.36051544e+00,\n",
              "        2.51754333e-01, -4.41157351e-01, -9.99355046e-02,  1.43989263e-01])"
            ]
          },
          "metadata": {},
          "execution_count": 16
        }
      ]
    },
    {
      "cell_type": "code",
      "source": [
        "plt.hist(mydist);\n",
        "plt.xlabel(\"something\")\n",
        "plt.ylabel(\"count\")"
      ],
      "metadata": {
        "colab": {
          "base_uri": "https://localhost:8080/",
          "height": 467
        },
        "id": "0y1kn3Ewk1G5",
        "outputId": "7009c74e-1f5b-4445-ff1c-8d95847035a5"
      },
      "execution_count": 14,
      "outputs": [
        {
          "output_type": "execute_result",
          "data": {
            "text/plain": [
              "Text(0, 0.5, 'count')"
            ]
          },
          "metadata": {},
          "execution_count": 14
        },
        {
          "output_type": "display_data",
          "data": {
            "text/plain": [
              "<Figure size 640x480 with 1 Axes>"
            ],
            "image/png": "[encoded data removed]"
          },
          "metadata": {}
        }
      ]
    },
    {
      "cell_type": "code",
      "source": [],
      "metadata": {
        "id": "KnKLcFOrk6xO"
      },
      "execution_count": null,
      "outputs": []
    }
  ]
}